{
 "cells": [
  {
   "cell_type": "markdown",
   "metadata": {},
   "source": [
    "# Bayesian modelling of football outcomes: Using the Skellam's distribution for the goal difference\n",
    "\n",
    "Reproduction of the method outlined in *Bayesian modelling of football outcomes: Using the Skellam's distribution for the goal difference* (Karlis and Ntzoufras, 2008) <a href=\"https://www.researchgate.net/publication/228621612_Bayesian_modelling_of_football_outcomes_Using_the_Skellam%27s_distribution_for_the_goal_difference\">link</a>)."
   ]
  },
  {
   "cell_type": "code",
   "execution_count": 1,
   "metadata": {
    "collapsed": true
   },
   "outputs": [],
   "source": [
    "import os\n",
    "\n",
    "import matplotlib.pyplot as plt\n",
    "import numpy as np\n",
    "import pandas as pd\n",
    "import pystan\n",
    "\n",
    "%matplotlib inline"
   ]
  },
  {
   "cell_type": "code",
   "execution_count": 2,
   "metadata": {
    "collapsed": true
   },
   "outputs": [],
   "source": [
    "def stan_map(vector):\n",
    "    unique_items = np.unique(vector)\n",
    "    number_of_unique_items = len(unique_items)\n",
    "    return dict(zip(unique_items, range(1, number_of_unique_items + 1)))"
   ]
  },
  {
   "cell_type": "code",
   "execution_count": 3,
   "metadata": {
    "collapsed": false
   },
   "outputs": [
    {
     "data": {
      "text/html": [
       "<div>\n",
       "<table border=\"1\" class=\"dataframe\">\n",
       "  <thead>\n",
       "    <tr style=\"text-align: right;\">\n",
       "      <th></th>\n",
       "      <th>home_team</th>\n",
       "      <th>away_team</th>\n",
       "      <th>goal_difference</th>\n",
       "      <th>home_team_id</th>\n",
       "      <th>away_team_id</th>\n",
       "    </tr>\n",
       "  </thead>\n",
       "  <tbody>\n",
       "    <tr>\n",
       "      <th>0</th>\n",
       "      <td>Arsenal</td>\n",
       "      <td>Aston Villa</td>\n",
       "      <td>0</td>\n",
       "      <td>1</td>\n",
       "      <td>2</td>\n",
       "    </tr>\n",
       "    <tr>\n",
       "      <th>1</th>\n",
       "      <td>Bolton</td>\n",
       "      <td>Tottenham</td>\n",
       "      <td>2</td>\n",
       "      <td>4</td>\n",
       "      <td>17</td>\n",
       "    </tr>\n",
       "    <tr>\n",
       "      <th>2</th>\n",
       "      <td>Everton</td>\n",
       "      <td>Watford</td>\n",
       "      <td>1</td>\n",
       "      <td>7</td>\n",
       "      <td>18</td>\n",
       "    </tr>\n",
       "    <tr>\n",
       "      <th>3</th>\n",
       "      <td>Newcastle</td>\n",
       "      <td>Wigan</td>\n",
       "      <td>1</td>\n",
       "      <td>13</td>\n",
       "      <td>20</td>\n",
       "    </tr>\n",
       "    <tr>\n",
       "      <th>4</th>\n",
       "      <td>Portsmouth</td>\n",
       "      <td>Blackburn</td>\n",
       "      <td>3</td>\n",
       "      <td>14</td>\n",
       "      <td>3</td>\n",
       "    </tr>\n",
       "  </tbody>\n",
       "</table>\n",
       "</div>"
      ],
      "text/plain": [
       "    home_team    away_team  goal_difference  home_team_id  away_team_id\n",
       "0     Arsenal  Aston Villa                0             1             2\n",
       "1      Bolton    Tottenham                2             4            17\n",
       "2     Everton      Watford                1             7            18\n",
       "3   Newcastle        Wigan                1            13            20\n",
       "4  Portsmouth    Blackburn                3            14             3"
      ]
     },
     "execution_count": 3,
     "metadata": {},
     "output_type": "execute_result"
    }
   ],
   "source": [
    "data = (\n",
    "    pd.read_csv('data/2006-07.csv')\n",
    "    .assign(goal_difference=lambda df: df['FTHG'] - df['FTAG'])\n",
    "    .rename(columns={'HomeTeam': 'home_team', 'AwayTeam': 'away_team'})\n",
    "    [['home_team', 'away_team', 'goal_difference']]\n",
    ")\n",
    "\n",
    "team_map = stan_map(data['home_team'])\n",
    "data['home_team_id'] = data['home_team'].replace(team_map)\n",
    "data['away_team_id'] = data['away_team'].replace(team_map)\n",
    "\n",
    "data.head()"
   ]
  },
  {
   "cell_type": "code",
   "execution_count": 4,
   "metadata": {
    "collapsed": true
   },
   "outputs": [],
   "source": [
    "model_data = {\n",
    "    'n_teams': len(data['home_team_id'].unique()),\n",
    "    'n_games': len(data['goal_difference']),\n",
    "    'home_team': data['home_team_id'],\n",
    "    'away_team': data['away_team_id'],\n",
    "    'goal_difference': data['goal_difference']\n",
    "}"
   ]
  },
  {
   "cell_type": "code",
   "execution_count": 5,
   "metadata": {
    "collapsed": false
   },
   "outputs": [
    {
     "name": "stderr",
     "output_type": "stream",
     "text": [
      "INFO:pystan:COMPILING THE C++ CODE FOR MODEL anon_model_41c384e1accbd2ad05496d4800035977 NOW.\n"
     ]
    },
    {
     "name": "stdout",
     "output_type": "stream",
     "text": [
      "CPU times: user 1.56 s, sys: 217 ms, total: 1.78 s\n",
      "Wall time: 3min 6s\n"
     ]
    }
   ],
   "source": [
    "%%time \n",
    "model = pystan.StanModel('model.stan')\n",
    "\n",
    "fit = model.sampling(\n",
    "    data=model_data,\n",
    "    iter=1000,\n",
    "    chains=4\n",
    ")\n",
    "\n",
    "output = fit.extract()"
   ]
  },
  {
   "cell_type": "markdown",
   "metadata": {},
   "source": [
    "## Plot the output"
   ]
  },
  {
   "cell_type": "code",
   "execution_count": 6,
   "metadata": {
    "collapsed": false,
    "scrolled": true
   },
   "outputs": [],
   "source": [
    "# Get final league table order to reproduce the paper's plot\n",
    "data['home_points'] = np.where(data['goal_difference'] > 0,\n",
    "                               3, np.where(data['goal_difference'] == 0, 1, 0))\n",
    "data['away_points'] = np.where(data['goal_difference'] < 0,\n",
    "                               3, np.where(data['goal_difference'] == 0, 1, 0))\n",
    "\n",
    "home_points = (\n",
    "    data.groupby('home_team', as_index=False)\n",
    "    .agg({'home_points': np.sum})\n",
    "    .rename(columns={'home_team': 'team'})\n",
    ")\n",
    "away_points = (\n",
    "    data.groupby('away_team', as_index=False)\n",
    "    .agg({'away_points': np.sum})\n",
    "    .rename(columns={'away_team': 'team'})\n",
    ")\n",
    "\n",
    "total_points = pd.merge(\n",
    "    home_points, away_points\n",
    ")\n",
    "total_points['total_points'] = total_points['home_points'] + total_points['away_points']\n",
    "total_points = total_points.sort_values(by='total_points', ascending=False).reset_index(drop=True)\n",
    "\n",
    "# Reverse the order for plotting (lowest at the bottom)\n",
    "ordered_teams = total_points['team'][::-1]\n",
    "\n",
    "# Map ids : names for parsing Stan output\n",
    "reverse_map = {v: k for k, v in team_map.items()}"
   ]
  },
  {
   "cell_type": "code",
   "execution_count": 7,
   "metadata": {
    "collapsed": false
   },
   "outputs": [],
   "source": [
    "def plot_coefficients(data, ordered_teams, title, alpha=0.05, axes_colour='black'):\n",
    "    fig, ax = plt.subplots(figsize=(8, 6))\n",
    "    \n",
    "    y_lookup = {i: team for i, team in enumerate(ordered_teams)}\n",
    "    \n",
    "    upper = 1 - (alpha / 2)\n",
    "    lower = 0 + (alpha / 2)\n",
    "\n",
    "    for i, team in y_lookup.items():\n",
    "        x_mean = np.mean(data[team])\n",
    "        x_lower = np.percentile(data[team], lower * 100)\n",
    "        x_upper = np.percentile(data[team], upper * 100)\n",
    "        \n",
    "        ax.scatter(x_mean, i, alpha=1, color='black', s=25)\n",
    "        ax.hlines(i, x_lower, x_upper, color='black')\n",
    "\n",
    "    ax.set_ylim([-1, len(ordered_teams)])\n",
    "    ax.set_yticks(list(y_lookup.keys()))\n",
    "    ax.set_yticklabels(list(y_lookup.values()))\n",
    "\n",
    "    # Add title\n",
    "    fig.suptitle(title, ha='left', x=0.125, fontsize=18, color='k')\n",
    "\n",
    "    # Change axes colour\n",
    "    ax.spines[\"bottom\"].set_color(axes_colour)\n",
    "    ax.spines[\"left\"].set_color(axes_colour)\n",
    "    ax.tick_params(colors=axes_colour)\n",
    "\n",
    "    # Remove top and bottom spines\n",
    "    ax.spines[\"top\"].set_visible(False)  \n",
    "    ax.spines[\"right\"].set_visible(False)\n",
    "    ax.spines[\"left\"].set_visible(False)\n",
    "    \n",
    "    return fig"
   ]
  },
  {
   "cell_type": "code",
   "execution_count": 8,
   "metadata": {
    "collapsed": false
   },
   "outputs": [],
   "source": [
    "reverse_map = {v: k for k, v in team_map.items()}"
   ]
  },
  {
   "cell_type": "code",
   "execution_count": 11,
   "metadata": {
    "collapsed": false
   },
   "outputs": [
    {
     "data": {
      "image/png": "[encoded data removed]",
      "text/plain": [
       "<matplotlib.figure.Figure at 0x1181064e0>"
      ]
     },
     "metadata": {},
     "output_type": "display_data"
    }
   ],
   "source": [
    "offense = pd.DataFrame(output['offense'])\n",
    "offense.columns = [reverse_map[id_ + 1] for id_ in offense.columns]\n",
    "\n",
    "fig_offense = plot_coefficients(offense, ordered_teams, 'Offense')\n",
    "fig_offense.savefig('figures/offense.png')"
   ]
  },
  {
   "cell_type": "code",
   "execution_count": 12,
   "metadata": {
    "collapsed": false
   },
   "outputs": [
    {
     "data": {
      "image/png": "[encoded data removed]",
      "text/plain": [
       "<matplotlib.figure.Figure at 0x1189ef048>"
      ]
     },
     "metadata": {},
     "output_type": "display_data"
    }
   ],
   "source": [
    "defense = pd.DataFrame(output['defense']) * -1\n",
    "defense.columns = [reverse_map[id_ + 1] for id_ in defense.columns]\n",
    "\n",
    "fig_defense = plot_coefficients(defense, ordered_teams, 'Defense')\n",
    "fig_defense.savefig('figures/defense.png')"
   ]
  },
  {
   "cell_type": "code",
   "execution_count": null,
   "metadata": {
    "collapsed": true
   },
   "outputs": [],
   "source": []
  }
 ],
 "metadata": {
  "anaconda-cloud": {},
  "kernelspec": {
   "display_name": "Python [default]",
   "language": "python",
   "name": "python3"
  },
  "language_info": {
   "codemirror_mode": {
    "name": "ipython",
    "version": 3
   },
   "file_extension": ".py",
   "mimetype": "text/x-python",
   "name": "python",
   "nbconvert_exporter": "python",
   "pygments_lexer": "ipython3",
   "version": "3.5.2"
  }
 },
 "nbformat": 4,
 "nbformat_minor": 1
}
